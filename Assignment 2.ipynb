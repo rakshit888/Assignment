{
 "cells": [
  {
   "cell_type": "markdown",
   "metadata": {},
   "source": [
    "# 1.1\n",
    "Write a Python Program to implement your own myreduce() function which works exactly like\n",
    "Python's built-in function reduce()"
   ]
  },
  {
   "cell_type": "code",
   "execution_count": 1,
   "metadata": {},
   "outputs": [],
   "source": [
    "# Reduce will produce a single result\n",
    "def myreduce(anyfunc, sequence):\n",
    "\n",
    " # Get first item in sequence and assign to result\n",
    "  result = sequence[0]\n",
    " # iterate over remaining items in sequence and apply reduction function \n",
    "  for item in sequence[1:]:\n",
    "   result = anyfunc(result, item)\n",
    "\n",
    "  return result"
   ]
  },
  {
   "cell_type": "code",
   "execution_count": 2,
   "metadata": {},
   "outputs": [],
   "source": [
    "# test myreduce function\n",
    "def sum(x,y): return x + y\n"
   ]
  },
  {
   "cell_type": "code",
   "execution_count": 3,
   "metadata": {},
   "outputs": [
    {
     "data": {
      "text/plain": [
       "13"
      ]
     },
     "execution_count": 3,
     "metadata": {},
     "output_type": "execute_result"
    }
   ],
   "source": [
    "sum(6,7)"
   ]
  },
  {
   "cell_type": "markdown",
   "metadata": {},
   "source": [
    "# 1.2\n",
    "Write a Python program to implement your own myfilter() function which works exactly like\n",
    "Python's built-in function filter()"
   ]
  },
  {
   "cell_type": "code",
   "execution_count": 4,
   "metadata": {},
   "outputs": [],
   "source": [
    "# Custom filter function \n",
    "def myfilter(anyfunc, sequence):\n",
    "\n",
    " # Initialize empty list\n",
    " result = []\n",
    " # iterate over sequence of items in sequence and apply filter function\n",
    " for item in sequence:\n",
    "  if anyfunc(item):\n",
    "   result.append(item)\n",
    "\n",
    " # return funal output\n",
    " return result\n"
   ]
  },
  {
   "cell_type": "code",
   "execution_count": 5,
   "metadata": {},
   "outputs": [
    {
     "name": "stdout",
     "output_type": "stream",
     "text": [
      "Sum on list [1,2,3] using custom reduce function 6\n",
      "Filter only positive Integers on list [0,1,-2,3,4,5] using custom filter function[1, 3, 4, 5]\n"
     ]
    }
   ],
   "source": [
    "# test myfilter function\n",
    "def ispositive(x):\n",
    " if (x <= 0): \n",
    "  return False \n",
    " else: \n",
    "  return True\n",
    "print (\"Sum on list [1,2,3] using custom reduce function \"   + str(myreduce(sum, [1,2,3])) )\n",
    "print (\"Filter only positive Integers on list [0,1,-2,3,4,5] using custom filter function\"  + str(myfilter(ispositive, [0,1,-2,3,4,5])))"
   ]
  },
  {
   "cell_type": "markdown",
   "metadata": {},
   "source": [
    "# 2.\n",
    "Implement List comprehensions to produce the following lists.\n",
    "Write List comprehensions to produce the following Lists\n"
   ]
  },
  {
   "cell_type": "code",
   "execution_count": 6,
   "metadata": {},
   "outputs": [
    {
     "name": "stdout",
     "output_type": "stream",
     "text": [
      "ACADGILD => ['A', 'C', 'A', 'D', 'G', 'I', 'L', 'D']\n"
     ]
    }
   ],
   "source": [
    "#########\n",
    "word = \"ACADGILD\"\n",
    "alphabet_list = [ alphabet for alphabet in word ]\n",
    "print (\"ACADGILD => \" + str(alphabet_list))\n"
   ]
  },
  {
   "cell_type": "code",
   "execution_count": 7,
   "metadata": {},
   "outputs": [
    {
     "name": "stdout",
     "output_type": "stream",
     "text": [
      "['x','y','z'] => ['x', 'y', 'z', 'xx', 'yy', 'zz', 'xxx', 'yyy', 'zzz', 'xxxx', 'yyyy', 'zzzz']\n"
     ]
    }
   ],
   "source": [
    "# Compress above for loop into a single list comprehension using technique [i <Upper for condition> <lower for condition>]\n",
    "input_list = ['x','y','z']\n",
    "result = [ item*num for num in range(1,5) for item in input_list  ]\n",
    "print(\"['x','y','z'] => \" +   str(result))\n"
   ]
  },
  {
   "cell_type": "code",
   "execution_count": 8,
   "metadata": {},
   "outputs": [
    {
     "name": "stdout",
     "output_type": "stream",
     "text": [
      "[2,3,4] =>[[2], [3], [4], [3], [4], [5], [4], [5], [6]]\n"
     ]
    }
   ],
   "source": [
    "#########\n",
    "input_list = [2,3,4]\n",
    "result = [ [item+num] for item in input_list for num in range(0,3)]\n",
    "print(\"[2,3,4] =>\" +  str(result))\n"
   ]
  },
  {
   "cell_type": "code",
   "execution_count": 9,
   "metadata": {},
   "outputs": [
    {
     "name": "stdout",
     "output_type": "stream",
     "text": [
      "[2,3,4,5] =>[[2, 3, 4, 5], [3, 4, 5, 6], [4, 5, 6, 7], [5, 6, 7, 8]]\n"
     ]
    }
   ],
   "source": [
    "#########\n",
    "input_list = [2,3,4,5]\n",
    "result = [ [item+num for item in input_list] for num in range(0,4)  ]\n",
    "print(\"[2,3,4,5] =>\" +  str(result))"
   ]
  },
  {
   "cell_type": "code",
   "execution_count": 10,
   "metadata": {},
   "outputs": [
    {
     "name": "stdout",
     "output_type": "stream",
     "text": [
      "[1,2,3] =>[(1, 1), (2, 1), (3, 1), (1, 2), (2, 2), (3, 2), (1, 3), (2, 3), (3, 3)]\n"
     ]
    }
   ],
   "source": [
    "#########\n",
    "input_list=[1,2,3]\n",
    "result = [ (b,a) for a in input_list for b in input_list]\n",
    "print(\"[1,2,3] =>\" +  str(result))\n"
   ]
  },
  {
   "cell_type": "markdown",
   "metadata": {},
   "source": [
    "# 3\n",
    ".Implement a function longestWord() that takes a list of words and returns the longest one."
   ]
  },
  {
   "cell_type": "code",
   "execution_count": 11,
   "metadata": {},
   "outputs": [
    {
     "name": "stdout",
     "output_type": "stream",
     "text": [
      "Exercises\n"
     ]
    }
   ],
   "source": [
    "def find_longest_word(words_list):\n",
    "    word_len = []\n",
    "    for n in words_list:\n",
    "        word_len.append((len(n), n))\n",
    "    word_len.sort()\n",
    "    return word_len[-1][1]\n",
    "\n",
    "print(find_longest_word([\"PHP\", \"Exercises\", \"Backend\"]))"
   ]
  },
  {
   "cell_type": "markdown",
   "metadata": {},
   "source": [
    "# Task.2\n",
    "Write a Python Program(with class concepts) to find the area of the triangle using the below\n",
    "formula.\n",
    "area = (s*(s-a)*(s-b)*(s-c)) ** 0.5\n",
    "Function to take the length of the sides of triangle from user should be defined in the parent\n",
    "class and function to calculate the area should be defined in subclass.\n"
   ]
  },
  {
   "cell_type": "code",
   "execution_count": 12,
   "metadata": {},
   "outputs": [
    {
     "name": "stdout",
     "output_type": "stream",
     "text": [
      "The area of the triangle is 14.70\n"
     ]
    }
   ],
   "source": [
    "# Python Program to find the area of triangle\n",
    "\n",
    "a = 5\n",
    "b = 6\n",
    "c = 7\n",
    "\n",
    "# Uncomment below to take inputs from the user\n",
    "# a = float(input('Enter first side: '))\n",
    "# b = float(input('Enter second side: '))\n",
    "# c = float(input('Enter third side: '))\n",
    "\n",
    "# calculate the semi-perimeter\n",
    "s = (a + b + c) / 2\n",
    "\n",
    "# calculate the area\n",
    "area = (s*(s-a)*(s-b)*(s-c)) ** 0.5\n",
    "print('The area of the triangle is %0.2f' %area)"
   ]
  },
  {
   "cell_type": "markdown",
   "metadata": {},
   "source": [
    "# 1.2\n",
    "Write a function filter_long_words() that takes a list of words and an integer n and returns the list\n",
    "of words that are longer than n."
   ]
  },
  {
   "cell_type": "code",
   "execution_count": 13,
   "metadata": {},
   "outputs": [
    {
     "name": "stdout",
     "output_type": "stream",
     "text": [
      "['quick', 'brown', 'jumps', 'over', 'lazy']\n"
     ]
    }
   ],
   "source": [
    "def long_words(n, str):  \n",
    "    word_len = []  \n",
    "    txt = str.split(\" \")  \n",
    "    for x in txt:  \n",
    "        if len(x) > n:  \n",
    "            word_len.append(x)  \n",
    "    return word_len   \n",
    "print(long_words(3, \"The quick brown fox jumps over the lazy dog\"))  "
   ]
  },
  {
   "cell_type": "markdown",
   "metadata": {},
   "source": [
    "# 2.1\n",
    "Write a Python program using function concept that maps list of words into a list of integers\n",
    "representing the lengths of the corresponding words.\n",
    "Hint: If a list [ ab,cde,erty] is passed on to the python function output should come as [2,3,4]\n",
    "Here 2,3 and 4 are the lengths of the words in the list."
   ]
  },
  {
   "cell_type": "code",
   "execution_count": 14,
   "metadata": {},
   "outputs": [
    {
     "name": "stdout",
     "output_type": "stream",
     "text": [
      "Input : Please enter Words : ab,cde,erty\n",
      "Output: Length of Words are : [2, 3, 4]\n"
     ]
    }
   ],
   "source": [
    "#Solution Approach_1\n",
    "#Function to map length of words with words \n",
    "def map_Words_to_Length(List):\n",
    "    ''' This function Map's the words with their corresponding length'''\n",
    "    return list(map(len, List))\n",
    "\n",
    "word_List=list(input(\"Input : Please enter Words : \").split(\",\"))\n",
    "#List Comprehension has been done to remove white trailing white spaces\n",
    "List=[x.strip() for x in word_List]\n",
    "#function Execution\n",
    "Words_lengths=map_Words_to_Length(List)\n",
    "\n",
    "print(\"Output: Length of Words are :\",Words_lengths )"
   ]
  },
  {
   "cell_type": "markdown",
   "metadata": {},
   "source": [
    "# 2.2\n",
    "Write a Python function which takes a character (i.e. a string of length 1) and returns True if it is\n",
    "a vowel, False otherwise.\n"
   ]
  },
  {
   "cell_type": "code",
   "execution_count": 19,
   "metadata": {},
   "outputs": [
    {
     "name": "stdout",
     "output_type": "stream",
     "text": [
      "Enter character to check that it is Vowel or not\n",
      "Input Value: E\n",
      "Output Value: True\n"
     ]
    }
   ],
   "source": [
    "#Solution\n",
    "def vowel_checker(inputChar):\n",
    "    #docstring\n",
    "    '''This function will return True/False based upon input character provided by user'''\n",
    "    return_value=''\n",
    "    if(len(inputChar)==1):\n",
    "        vowel_list=['a','e','i','o','u']\n",
    "        if (inputChar.lower() in vowel_list):\n",
    "            return_value= True\n",
    "        else:\n",
    "            return_value= False\n",
    "    else:\n",
    "        return_value=\"Please enter single character only!\"        \n",
    "    return return_value\n",
    "\n",
    "#Ask user's Input\n",
    "print(\"Enter character to check that it is Vowel or not\")\n",
    "input_value = input(\"Input Value: \")\n",
    "#Function Execution\n",
    "output_value=vowel_checker(input_value) \n",
    "#Output\n",
    "print(\"Output Value:\",output_value)"
   ]
  },
  {
   "cell_type": "code",
   "execution_count": 20,
   "metadata": {},
   "outputs": [
    {
     "name": "stdout",
     "output_type": "stream",
     "text": [
      "Enter character to check that it is Vowel or not\n",
      "Input Value: B\n",
      "Output Value: False\n"
     ]
    }
   ],
   "source": [
    "print(\"Enter character to check that it is Vowel or not\")\n",
    "input_value = input(\"Input Value: \")\n",
    "\n",
    "#Function Execution\n",
    "output_value=vowel_checker(input_value) \n",
    "\n",
    "#Output\n",
    "print(\"Output Value:\",output_value)"
   ]
  },
  {
   "cell_type": "code",
   "execution_count": null,
   "metadata": {},
   "outputs": [],
   "source": []
  }
 ],
 "metadata": {
  "kernelspec": {
   "display_name": "Python 3",
   "language": "python",
   "name": "python3"
  },
  "language_info": {
   "codemirror_mode": {
    "name": "ipython",
    "version": 3
   },
   "file_extension": ".py",
   "mimetype": "text/x-python",
   "name": "python",
   "nbconvert_exporter": "python",
   "pygments_lexer": "ipython3",
   "version": "3.7.3"
  }
 },
 "nbformat": 4,
 "nbformat_minor": 2
}
